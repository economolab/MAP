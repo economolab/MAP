{
 "cells": [
  {
   "cell_type": "code",
   "execution_count": 2,
   "id": "2c2ffb1a",
   "metadata": {},
   "outputs": [],
   "source": [
    "# conda create --name brainrender python=3.8 -y\n",
    "# pip install brainrender\n",
    "# pip install ipyvtklink\n",
    "# pip install itkwidgets\n",
    "\n",
    "from vedo import embedWindow  # for more explanations about these two lines checks the notebooks workflow example\n",
    "embedWindow(None)\n",
    "\n"
   ]
  },
  {
   "cell_type": "code",
   "execution_count": 3,
   "id": "05cd9e8e",
   "metadata": {},
   "outputs": [
    {
     "data": {
      "text/html": [
       "<div>\n",
       "<style scoped>\n",
       "    .dataframe tbody tr th:only-of-type {\n",
       "        vertical-align: middle;\n",
       "    }\n",
       "\n",
       "    .dataframe tbody tr th {\n",
       "        vertical-align: top;\n",
       "    }\n",
       "\n",
       "    .dataframe thead th {\n",
       "        text-align: right;\n",
       "    }\n",
       "</style>\n",
       "<table border=\"1\" class=\"dataframe\">\n",
       "  <thead>\n",
       "    <tr style=\"text-align: right;\">\n",
       "      <th></th>\n",
       "      <th>acronym</th>\n",
       "      <th>id</th>\n",
       "      <th>name</th>\n",
       "    </tr>\n",
       "  </thead>\n",
       "  <tbody>\n",
       "    <tr>\n",
       "      <th>0</th>\n",
       "      <td>root</td>\n",
       "      <td>997</td>\n",
       "      <td>root</td>\n",
       "    </tr>\n",
       "    <tr>\n",
       "      <th>1</th>\n",
       "      <td>grey</td>\n",
       "      <td>8</td>\n",
       "      <td>Basic cell groups and regions</td>\n",
       "    </tr>\n",
       "    <tr>\n",
       "      <th>2</th>\n",
       "      <td>CH</td>\n",
       "      <td>567</td>\n",
       "      <td>Cerebrum</td>\n",
       "    </tr>\n",
       "    <tr>\n",
       "      <th>3</th>\n",
       "      <td>CTX</td>\n",
       "      <td>688</td>\n",
       "      <td>Cerebral cortex</td>\n",
       "    </tr>\n",
       "    <tr>\n",
       "      <th>4</th>\n",
       "      <td>CTXpl</td>\n",
       "      <td>695</td>\n",
       "      <td>Cortical plate</td>\n",
       "    </tr>\n",
       "  </tbody>\n",
       "</table>\n",
       "</div>"
      ]
     },
     "execution_count": 3,
     "metadata": {},
     "output_type": "execute_result"
    }
   ],
   "source": [
    "# Import Scene\n",
    "from brainrender import Scene  # Scene handles the creation of your rendering!\n",
    "\n",
    "scene = Scene(title='My first rendering',atlas_name=\"allen_mouse_100um\")  # create an instance of scene\n",
    "'''\n",
    "If you want to use any of the atlases supported by BrainGlobe's AtlasAPI,\n",
    "specify the atlas name when creating an instance of `Scene`!\n",
    "'''\n",
    "\n",
    "# Adding brain regions\n",
    "scene.add_brain_region('MOs', 'TH', alpha=.5)\n",
    "\n",
    "'''\n",
    "You can add any number of brain regions at once, just specify the regions' acronym or ID numbers.\n",
    "If you are not sure what the acronym/ID is for your region, have a look try:\n",
    "\n",
    "`scene.atlas.lookup_df`\n",
    "\n",
    "or:\n",
    "`print(scene.atlas.hierarchy)`\n",
    "\n",
    "which whill show the hieararchical organization of the atlas' regions:\n",
    "\n",
    "root (997)\n",
    "├── VS (73)\n",
    "│   ├── AQ (140)\n",
    "│   ├── V3 (129)\n",
    "│   ├── V4 (145)\n",
    "│   │   └── V4r (153)\n",
    "│   ├── VL (81)\n",
    "│   │   ├── SEZ (98)\n",
    "│   │   └── chpl (108)\n",
    "│   └── c (164)\n",
    "├── fiber tracts (1009)\n",
    "│   ├── cbf (960)\n",
    "│   │   ├── arb (728)\n",
    "...\n",
    "\n",
    "'''\n",
    "\n",
    "scene.atlas.lookup_df.head()"
   ]
  },
  {
   "cell_type": "code",
   "execution_count": 5,
   "id": "7326ec28",
   "metadata": {},
   "outputs": [
    {
     "name": "stdout",
     "output_type": "stream",
     "text": [
      "\n",
      "Closing window. Plotter.escaped is set to True.\n"
     ]
    }
   ],
   "source": [
    "scene.render()"
   ]
  },
  {
   "cell_type": "markdown",
   "id": "92cba604",
   "metadata": {},
   "source": [
    "# ADD CELLS"
   ]
  },
  {
   "cell_type": "code",
   "execution_count": 1,
   "id": "eddf18e4",
   "metadata": {},
   "outputs": [
    {
     "data": {
      "text/html": [
       "<pre style=\"white-space:pre;overflow-x:auto;line-height:normal;font-family:Menlo,'DejaVu Sans Mono',consolas,'Courier New',monospace\"><span style=\"color: #ffa726; text-decoration-color: #ffa726\">╭─────────────────────────────────╮</span>\n",
       "<span style=\"color: #ffa726; text-decoration-color: #ffa726\">│</span>  <span style=\"font-weight: bold\">                             </span>  <span style=\"color: #ffa726; text-decoration-color: #ffa726\">│</span>\n",
       "<span style=\"color: #ffa726; text-decoration-color: #ffa726\">│</span>   <span style=\"color: #ff7043; text-decoration-color: #ff7043; font-weight: bold\">Scene actors</span>                  <span style=\"color: #ffa726; text-decoration-color: #ffa726\">│</span>\n",
       "<span style=\"color: #ffa726; text-decoration-color: #ffa726\">│</span>   <span style=\"color: #ff7043; text-decoration-color: #ff7043; font-weight: bold\">────────────</span>                  <span style=\"color: #ffa726; text-decoration-color: #ffa726\">│</span>\n",
       "<span style=\"color: #ffa726; text-decoration-color: #ffa726\">│</span>                                 <span style=\"color: #ffa726; text-decoration-color: #ffa726\">│</span>\n",
       "<span style=\"color: #ffa726; text-decoration-color: #ffa726\">│</span>   <span style=\"color: #ffca28; text-decoration-color: #ffca28; font-weight: bold\">- root</span><span style=\"color: #ef6c00; text-decoration-color: #ef6c00\"> (type: </span><span style=\"color: #ffa726; text-decoration-color: #ffa726\">brain region</span><span style=\"color: #ef6c00; text-decoration-color: #ef6c00\">)</span>   <span style=\"color: #ffa726; text-decoration-color: #ffa726\">│</span>\n",
       "<span style=\"color: #ffa726; text-decoration-color: #ffa726\">│</span>   <span style=\"color: #ffca28; text-decoration-color: #ffca28; font-weight: bold\">- title</span><span style=\"color: #ef6c00; text-decoration-color: #ef6c00\"> (type: </span><span style=\"color: #ffa726; text-decoration-color: #ffa726\">title</span><span style=\"color: #ef6c00; text-decoration-color: #ef6c00\">)</span>         <span style=\"color: #ffa726; text-decoration-color: #ffa726\">│</span>\n",
       "<span style=\"color: #ffa726; text-decoration-color: #ffa726\">│</span>   <span style=\"color: #ffca28; text-decoration-color: #ffca28; font-weight: bold\">- MOs</span><span style=\"color: #ef6c00; text-decoration-color: #ef6c00\"> (type: </span><span style=\"color: #ffa726; text-decoration-color: #ffa726\">brain region</span><span style=\"color: #ef6c00; text-decoration-color: #ef6c00\">)</span>    <span style=\"color: #ffa726; text-decoration-color: #ffa726\">│</span>\n",
       "<span style=\"color: #ffa726; text-decoration-color: #ffa726\">│</span>   <span style=\"color: #ffca28; text-decoration-color: #ffca28; font-weight: bold\">- IRN</span><span style=\"color: #ef6c00; text-decoration-color: #ef6c00\"> (type: </span><span style=\"color: #ffa726; text-decoration-color: #ffa726\">brain region</span><span style=\"color: #ef6c00; text-decoration-color: #ef6c00\">)</span>    <span style=\"color: #ffa726; text-decoration-color: #ffa726\">│</span>\n",
       "<span style=\"color: #ffa726; text-decoration-color: #ffa726\">│</span>   <span style=\"color: #ffca28; text-decoration-color: #ffca28; font-weight: bold\">- CELLS</span><span style=\"color: #ef6c00; text-decoration-color: #ef6c00\"> (type: </span><span style=\"color: #ffa726; text-decoration-color: #ffa726\">Points</span><span style=\"color: #ef6c00; text-decoration-color: #ef6c00\">)</span>        <span style=\"color: #ffa726; text-decoration-color: #ffa726\">│</span>\n",
       "<span style=\"color: #ffa726; text-decoration-color: #ffa726\">│</span>                                 <span style=\"color: #ffa726; text-decoration-color: #ffa726\">│</span>\n",
       "<span style=\"color: #ffa726; text-decoration-color: #ffa726\">╰─────────────────────────────────╯</span>\n",
       "</pre>\n"
      ],
      "text/plain": [
       "\u001b[38;2;255;167;38m╭─────────────────────────────────╮\u001b[0m\n",
       "\u001b[38;2;255;167;38m│\u001b[0m  \u001b[1m \u001b[0m\u001b[1m                           \u001b[0m\u001b[1m \u001b[0m  \u001b[38;2;255;167;38m│\u001b[0m\n",
       "\u001b[38;2;255;167;38m│\u001b[0m   \u001b[1;38;2;255;112;67mScene actors\u001b[0m                  \u001b[38;2;255;167;38m│\u001b[0m\n",
       "\u001b[38;2;255;167;38m│\u001b[0m   \u001b[1;38;2;255;112;67m────────────\u001b[0m                  \u001b[38;2;255;167;38m│\u001b[0m\n",
       "\u001b[38;2;255;167;38m│\u001b[0m                                 \u001b[38;2;255;167;38m│\u001b[0m\n",
       "\u001b[38;2;255;167;38m│\u001b[0m   \u001b[1;38;2;255;202;40m- root\u001b[0m\u001b[38;2;239;108;0m (type: \u001b[0m\u001b[38;2;255;167;38mbrain region\u001b[0m\u001b[38;2;239;108;0m)\u001b[0m   \u001b[38;2;255;167;38m│\u001b[0m\n",
       "\u001b[38;2;255;167;38m│\u001b[0m   \u001b[1;38;2;255;202;40m- title\u001b[0m\u001b[38;2;239;108;0m (type: \u001b[0m\u001b[38;2;255;167;38mtitle\u001b[0m\u001b[38;2;239;108;0m)\u001b[0m         \u001b[38;2;255;167;38m│\u001b[0m\n",
       "\u001b[38;2;255;167;38m│\u001b[0m   \u001b[1;38;2;255;202;40m- MOs\u001b[0m\u001b[38;2;239;108;0m (type: \u001b[0m\u001b[38;2;255;167;38mbrain region\u001b[0m\u001b[38;2;239;108;0m)\u001b[0m    \u001b[38;2;255;167;38m│\u001b[0m\n",
       "\u001b[38;2;255;167;38m│\u001b[0m   \u001b[1;38;2;255;202;40m- IRN\u001b[0m\u001b[38;2;239;108;0m (type: \u001b[0m\u001b[38;2;255;167;38mbrain region\u001b[0m\u001b[38;2;239;108;0m)\u001b[0m    \u001b[38;2;255;167;38m│\u001b[0m\n",
       "\u001b[38;2;255;167;38m│\u001b[0m   \u001b[1;38;2;255;202;40m- CELLS\u001b[0m\u001b[38;2;239;108;0m (type: \u001b[0m\u001b[38;2;255;167;38mPoints\u001b[0m\u001b[38;2;239;108;0m)\u001b[0m        \u001b[38;2;255;167;38m│\u001b[0m\n",
       "\u001b[38;2;255;167;38m│\u001b[0m                                 \u001b[38;2;255;167;38m│\u001b[0m\n",
       "\u001b[38;2;255;167;38m╰─────────────────────────────────╯\u001b[0m\n"
      ]
     },
     "metadata": {},
     "output_type": "display_data"
    },
    {
     "data": {
      "text/html": [
       "<pre style=\"white-space:pre;overflow-x:auto;line-height:normal;font-family:Menlo,'DejaVu Sans Mono',consolas,'Courier New',monospace\"><span style=\"color: #26a69a; text-decoration-color: #26a69a\">Your scene is ready for rendering, use:</span>\n",
       "\n",
       "<span style=\"color: #f92672; text-decoration-color: #f92672; background-color: #272822\">from</span><span style=\"color: #f8f8f2; text-decoration-color: #f8f8f2; background-color: #272822\"> itkwidgets </span><span style=\"color: #f92672; text-decoration-color: #f92672; background-color: #272822\">import</span><span style=\"color: #f8f8f2; text-decoration-color: #f8f8f2; background-color: #272822\"> view</span><span style=\"background-color: #272822\">                                                                                        </span>\n",
       "<span style=\"color: #f8f8f2; text-decoration-color: #f8f8f2; background-color: #272822\">view(scene</span><span style=\"color: #f92672; text-decoration-color: #f92672; background-color: #272822\">.</span><span style=\"color: #f8f8f2; text-decoration-color: #f8f8f2; background-color: #272822\">plotter</span><span style=\"color: #f92672; text-decoration-color: #f92672; background-color: #272822\">.</span><span style=\"color: #f8f8f2; text-decoration-color: #f8f8f2; background-color: #272822\">show(</span><span style=\"color: #f92672; text-decoration-color: #f92672; background-color: #272822\">*</span><span style=\"color: #f8f8f2; text-decoration-color: #f8f8f2; background-color: #272822\">scene</span><span style=\"color: #f92672; text-decoration-color: #f92672; background-color: #272822\">.</span><span style=\"color: #f8f8f2; text-decoration-color: #f8f8f2; background-color: #272822\">renderables))</span><span style=\"background-color: #272822\">                                                                       </span>\n",
       "</pre>\n"
      ],
      "text/plain": [
       "\u001b[38;2;38;166;154mYour scene is ready for rendering, use:\u001b[0m\n",
       "\n",
       "\u001b[38;2;249;38;114;48;2;39;40;34mfrom\u001b[0m\u001b[38;2;248;248;242;48;2;39;40;34m \u001b[0m\u001b[38;2;248;248;242;48;2;39;40;34mitkwidgets\u001b[0m\u001b[38;2;248;248;242;48;2;39;40;34m \u001b[0m\u001b[38;2;249;38;114;48;2;39;40;34mimport\u001b[0m\u001b[38;2;248;248;242;48;2;39;40;34m \u001b[0m\u001b[38;2;248;248;242;48;2;39;40;34mview\u001b[0m\u001b[48;2;39;40;34m                                                                                        \u001b[0m\n",
       "\u001b[38;2;248;248;242;48;2;39;40;34mview\u001b[0m\u001b[38;2;248;248;242;48;2;39;40;34m(\u001b[0m\u001b[38;2;248;248;242;48;2;39;40;34mscene\u001b[0m\u001b[38;2;249;38;114;48;2;39;40;34m.\u001b[0m\u001b[38;2;248;248;242;48;2;39;40;34mplotter\u001b[0m\u001b[38;2;249;38;114;48;2;39;40;34m.\u001b[0m\u001b[38;2;248;248;242;48;2;39;40;34mshow\u001b[0m\u001b[38;2;248;248;242;48;2;39;40;34m(\u001b[0m\u001b[38;2;249;38;114;48;2;39;40;34m*\u001b[0m\u001b[38;2;248;248;242;48;2;39;40;34mscene\u001b[0m\u001b[38;2;249;38;114;48;2;39;40;34m.\u001b[0m\u001b[38;2;248;248;242;48;2;39;40;34mrenderables\u001b[0m\u001b[38;2;248;248;242;48;2;39;40;34m)\u001b[0m\u001b[38;2;248;248;242;48;2;39;40;34m)\u001b[0m\u001b[48;2;39;40;34m                                                                       \u001b[0m\n"
      ]
     },
     "metadata": {},
     "output_type": "display_data"
    },
    {
     "data": {
      "application/vnd.jupyter.widget-view+json": {
       "model_id": "9e54c504f23f4d35b002aea0d850a00b",
       "version_major": 2,
       "version_minor": 0
      },
      "text/plain": [
       "Viewer(geometries=[], gradient_opacity=0.22, point_sets=[])"
      ]
     },
     "metadata": {},
     "output_type": "display_data"
    }
   ],
   "source": [
    "# https://github.com/brainglobe/brainrender/blob/master/examples/notebook_workflow.ipynb\n",
    "# https://github.com/brainglobe/brainrender/blob/master/examples/add_cells.py\n",
    "import random\n",
    "import numpy as np\n",
    "\n",
    "from brainrender import Scene\n",
    "from vedo import embedWindow, Plotter, show  # <- this will be used to render an embedded scene \n",
    "from itkwidgets import view\n",
    "from brainrender.actors import Points, PointsDensity\n",
    "\n",
    "from rich import print\n",
    "from myterial import orange\n",
    "from pathlib import Path\n",
    "\n",
    "\n",
    "embedWindow(None)\n",
    "# embedWindow('itkwidgets')  # use itk widgets\n",
    "\n",
    "\n",
    "scene = Scene(title=\"Labelled cells\",atlas_name=\"allen_mouse_100um\", inset=False)\n",
    "\n",
    "mos = scene.add_brain_region(\"MOs\", alpha=0.15)\n",
    "irn = scene.add_brain_region(\"IRN\", alpha=0.15)\n",
    "\n",
    "coordinates = np.load('coords484677_20210413.npy')\n",
    "\n",
    "# Add to scene\n",
    "scene.add(Points(coordinates, name=\"CELLS\", colors=\"blackboard\", radius=45))\n",
    "# scene.add(PointsDensity(coordinates))\n",
    "\n",
    "# scene.slice('sagittal')\n",
    "\n",
    "# render\n",
    "scene.content\n",
    "scene.render(zoom=1.25)\n",
    "\n",
    "\n"
   ]
  }
 ],
 "metadata": {
  "kernelspec": {
   "display_name": "Python 3",
   "language": "python",
   "name": "python3"
  },
  "language_info": {
   "codemirror_mode": {
    "name": "ipython",
    "version": 3
   },
   "file_extension": ".py",
   "mimetype": "text/x-python",
   "name": "python",
   "nbconvert_exporter": "python",
   "pygments_lexer": "ipython3",
   "version": "3.6.13"
  }
 },
 "nbformat": 4,
 "nbformat_minor": 5
}
